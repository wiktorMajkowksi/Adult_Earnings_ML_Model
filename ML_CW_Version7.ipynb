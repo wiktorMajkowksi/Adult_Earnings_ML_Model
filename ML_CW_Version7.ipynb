{
 "cells": [
  {
   "cell_type": "markdown",
   "metadata": {},
   "source": [
    "Load Libraries"
   ]
  },
  {
   "cell_type": "code",
   "execution_count": 1,
   "metadata": {},
   "outputs": [],
   "source": [
    "import time\n",
    "start_time = time.time()\n",
    "import pandas as pd\n",
    "import numpy as np\n",
    "import matplotlib.pyplot as plt\n",
    "import seaborn as sns\n",
    "\n",
    "from sklearn.preprocessing import StandardScaler, LabelEncoder\n",
    "from sklearn.model_selection import train_test_split, cross_val_score\n",
    "from sklearn.linear_model import LogisticRegression\n",
    "from sklearn.neighbors import KNeighborsClassifier\n",
    "from sklearn.metrics import accuracy_score, plot_confusion_matrix, confusion_matrix,classification_report\n",
    "from sklearn.naive_bayes import GaussianNB, BernoulliNB\n",
    "\n",
    "import warnings\n",
    "warnings.filterwarnings('ignore')"
   ]
  },
  {
   "cell_type": "markdown",
   "metadata": {},
   "source": [
    "Loading Data"
   ]
  },
  {
   "cell_type": "code",
   "execution_count": 2,
   "metadata": {},
   "outputs": [],
   "source": [
    "df = pd.read_csv(\"D:/Year3/ML/adult.csv\")"
   ]
  },
  {
   "cell_type": "code",
   "execution_count": 3,
   "metadata": {},
   "outputs": [
    {
     "data": {
      "text/plain": [
       "(48842, 15)"
      ]
     },
     "execution_count": 3,
     "metadata": {},
     "output_type": "execute_result"
    }
   ],
   "source": [
    "df.head(30)\n",
    "df.shape"
   ]
  },
  {
   "cell_type": "code",
   "execution_count": 4,
   "metadata": {},
   "outputs": [
    {
     "data": {
      "text/plain": [
       "age                    74\n",
       "workclass               9\n",
       "fnlwgt              28523\n",
       "education              16\n",
       "educational-num        16\n",
       "marital-status          7\n",
       "occupation             15\n",
       "relationship            6\n",
       "race                    5\n",
       "gender                  2\n",
       "capital-gain          123\n",
       "capital-loss           99\n",
       "hours-per-week         96\n",
       "native-country         42\n",
       "income                  2\n",
       "age                 int64\n",
       "workclass          object\n",
       "fnlwgt              int64\n",
       "education          object\n",
       "educational-num     int64\n",
       "marital-status     object\n",
       "occupation         object\n",
       "relationship       object\n",
       "race               object\n",
       "gender             object\n",
       "capital-gain        int64\n",
       "capital-loss        int64\n",
       "hours-per-week      int64\n",
       "native-country     object\n",
       "income             object\n",
       "dtype: object"
      ]
     },
     "execution_count": 4,
     "metadata": {},
     "output_type": "execute_result"
    }
   ],
   "source": [
    "pd.concat([df.nunique(),df.dtypes])#view all features, amount of unique entries and datatype"
   ]
  },
  {
   "cell_type": "code",
   "execution_count": 5,
   "metadata": {},
   "outputs": [
    {
     "data": {
      "text/plain": [
       "education     educational-num\n",
       "10th          6                   1389\n",
       "11th          7                   1812\n",
       "12th          8                    657\n",
       "1st-4th       2                    247\n",
       "5th-6th       3                    509\n",
       "7th-8th       4                    955\n",
       "9th           5                    756\n",
       "Assoc-acdm    12                  1601\n",
       "Assoc-voc     11                  2061\n",
       "Bachelors     13                  8025\n",
       "Doctorate     16                   594\n",
       "HS-grad       9                  15784\n",
       "Masters       14                  2657\n",
       "Preschool     1                     83\n",
       "Prof-school   15                   834\n",
       "Some-college  10                 10878\n",
       "dtype: int64"
      ]
     },
     "execution_count": 5,
     "metadata": {},
     "output_type": "execute_result"
    }
   ],
   "source": [
    "df.groupby(['education','educational-num']).size()"
   ]
  },
  {
   "cell_type": "code",
   "execution_count": 6,
   "metadata": {},
   "outputs": [
    {
     "data": {
      "text/plain": [
       "<matplotlib.axes._subplots.AxesSubplot at 0x1a980f9c430>"
      ]
     },
     "execution_count": 6,
     "metadata": {},
     "output_type": "execute_result"
    },
    {
     "data": {
      "image/png": "[encoded data removed]",
      "text/plain": [
       "<Figure size 432x288 with 1 Axes>"
      ]
     },
     "metadata": {
      "needs_background": "light"
     },
     "output_type": "display_data"
    }
   ],
   "source": [
    "sns.countplot(df['income'],palette='rocket',hue='gender',data=df)#plot barchart "
   ]
  },
  {
   "cell_type": "markdown",
   "metadata": {},
   "source": [
    "Data Cleaning"
   ]
  },
  {
   "cell_type": "code",
   "execution_count": 7,
   "metadata": {
    "scrolled": true
   },
   "outputs": [
    {
     "data": {
      "text/plain": [
       "Private             33307\n",
       "Self-emp-not-inc     3796\n",
       "Local-gov            3100\n",
       "State-gov            1946\n",
       "Self-emp-inc         1646\n",
       "Federal-gov          1406\n",
       "Without-pay            21\n",
       "Name: workclass, dtype: int64"
      ]
     },
     "execution_count": 7,
     "metadata": {},
     "output_type": "execute_result"
    }
   ],
   "source": [
    "df = df[df != '?']#removing '?' entries \n",
    "df = df.dropna()#dropping rows with empty entires\n",
    "df['workclass'].value_counts()"
   ]
  },
  {
   "cell_type": "code",
   "execution_count": 8,
   "metadata": {},
   "outputs": [],
   "source": [
    "\"\"\"Loop to check if all entires with '?' are removed\"\"\"\n",
    "for i in df:\n",
    "    if \"?\" in df[i].value_counts():\n",
    "        print(\"Remove \\'?\\' from: \"+i)\n",
    "#if nothing is returned data is clean from unknown entries"
   ]
  },
  {
   "cell_type": "markdown",
   "metadata": {},
   "source": [
    "Feature cleaning"
   ]
  },
  {
   "cell_type": "code",
   "execution_count": 9,
   "metadata": {},
   "outputs": [
    {
     "data": {
      "text/plain": [
       "Higher                 28148\n",
       "Under-Graduate          7570\n",
       "Secondary education     4918\n",
       "Graduate                2514\n",
       "Post-Graduate            785\n",
       "Primary education        671\n",
       "Doctorate                544\n",
       "Preschool                 72\n",
       "Name: education, dtype: int64"
      ]
     },
     "execution_count": 9,
     "metadata": {},
     "output_type": "execute_result"
    }
   ],
   "source": [
    "#categorised agains educational-num\n",
    "df.education = df.education.replace(['1st-4th','5th-6th'],'Primary education')#2-3\n",
    "df.education = df.education.replace(['7th-8th','9th','10th','11th','12th'],'Secondary education')#4-8\n",
    "df.education = df.education.replace(['Some-college','HS-grad','Assoc-voc','Assoc-acdm'],'Higher')#9-12\n",
    "df.education = df.education.replace(['Bachelors'],'Under-Graduate')#13\n",
    "df.education = df.education.replace(['Masters'],'Graduate')#14\n",
    "df.education = df.education.replace(['Prof-school'],'Post-Graduate')#15\n",
    "df['education'].value_counts()"
   ]
  },
  {
   "cell_type": "code",
   "execution_count": 10,
   "metadata": {},
   "outputs": [
    {
     "data": {
      "text/plain": [
       "0    34014\n",
       "1    11208\n",
       "Name: income, dtype: int64"
      ]
     },
     "execution_count": 10,
     "metadata": {},
     "output_type": "execute_result"
    }
   ],
   "source": [
    "#Chnaging income to binary\n",
    "df.income = df.income.replace(['<=50K'],0)\n",
    "df.income = df.income.replace(['>50K'],1)\n",
    "df['income'].value_counts()"
   ]
  },
  {
   "cell_type": "code",
   "execution_count": 11,
   "metadata": {
    "scrolled": true
   },
   "outputs": [
    {
     "data": {
      "text/html": [
       "<div>\n",
       "<style scoped>\n",
       "    .dataframe tbody tr th:only-of-type {\n",
       "        vertical-align: middle;\n",
       "    }\n",
       "\n",
       "    .dataframe tbody tr th {\n",
       "        vertical-align: top;\n",
       "    }\n",
       "\n",
       "    .dataframe thead th {\n",
       "        text-align: right;\n",
       "    }\n",
       "</style>\n",
       "<table border=\"1\" class=\"dataframe\">\n",
       "  <thead>\n",
       "    <tr style=\"text-align: right;\">\n",
       "      <th></th>\n",
       "      <th>age</th>\n",
       "      <th>workclass</th>\n",
       "      <th>fnlwgt</th>\n",
       "      <th>education</th>\n",
       "      <th>educational-num</th>\n",
       "      <th>marital-status</th>\n",
       "      <th>occupation</th>\n",
       "      <th>relationship</th>\n",
       "      <th>race</th>\n",
       "      <th>gender</th>\n",
       "      <th>capital-gain</th>\n",
       "      <th>capital-loss</th>\n",
       "      <th>hours-per-week</th>\n",
       "      <th>native-country</th>\n",
       "      <th>income</th>\n",
       "    </tr>\n",
       "  </thead>\n",
       "  <tbody>\n",
       "    <tr>\n",
       "      <th>0</th>\n",
       "      <td>25</td>\n",
       "      <td>Private</td>\n",
       "      <td>226802</td>\n",
       "      <td>Secondary education</td>\n",
       "      <td>7</td>\n",
       "      <td>Never-married</td>\n",
       "      <td>Machine-op-inspct</td>\n",
       "      <td>Own-child</td>\n",
       "      <td>Black</td>\n",
       "      <td>1</td>\n",
       "      <td>0</td>\n",
       "      <td>0</td>\n",
       "      <td>40</td>\n",
       "      <td>United-States</td>\n",
       "      <td>0</td>\n",
       "    </tr>\n",
       "    <tr>\n",
       "      <th>1</th>\n",
       "      <td>38</td>\n",
       "      <td>Private</td>\n",
       "      <td>89814</td>\n",
       "      <td>Higher</td>\n",
       "      <td>9</td>\n",
       "      <td>Married-civ-spouse</td>\n",
       "      <td>Farming-fishing</td>\n",
       "      <td>Husband</td>\n",
       "      <td>White</td>\n",
       "      <td>1</td>\n",
       "      <td>0</td>\n",
       "      <td>0</td>\n",
       "      <td>50</td>\n",
       "      <td>United-States</td>\n",
       "      <td>0</td>\n",
       "    </tr>\n",
       "    <tr>\n",
       "      <th>2</th>\n",
       "      <td>28</td>\n",
       "      <td>Local-gov</td>\n",
       "      <td>336951</td>\n",
       "      <td>Higher</td>\n",
       "      <td>12</td>\n",
       "      <td>Married-civ-spouse</td>\n",
       "      <td>Protective-serv</td>\n",
       "      <td>Husband</td>\n",
       "      <td>White</td>\n",
       "      <td>1</td>\n",
       "      <td>0</td>\n",
       "      <td>0</td>\n",
       "      <td>40</td>\n",
       "      <td>United-States</td>\n",
       "      <td>1</td>\n",
       "    </tr>\n",
       "    <tr>\n",
       "      <th>3</th>\n",
       "      <td>44</td>\n",
       "      <td>Private</td>\n",
       "      <td>160323</td>\n",
       "      <td>Higher</td>\n",
       "      <td>10</td>\n",
       "      <td>Married-civ-spouse</td>\n",
       "      <td>Machine-op-inspct</td>\n",
       "      <td>Husband</td>\n",
       "      <td>Black</td>\n",
       "      <td>1</td>\n",
       "      <td>7688</td>\n",
       "      <td>0</td>\n",
       "      <td>40</td>\n",
       "      <td>United-States</td>\n",
       "      <td>1</td>\n",
       "    </tr>\n",
       "    <tr>\n",
       "      <th>5</th>\n",
       "      <td>34</td>\n",
       "      <td>Private</td>\n",
       "      <td>198693</td>\n",
       "      <td>Secondary education</td>\n",
       "      <td>6</td>\n",
       "      <td>Never-married</td>\n",
       "      <td>Other-service</td>\n",
       "      <td>Not-in-family</td>\n",
       "      <td>White</td>\n",
       "      <td>1</td>\n",
       "      <td>0</td>\n",
       "      <td>0</td>\n",
       "      <td>30</td>\n",
       "      <td>United-States</td>\n",
       "      <td>0</td>\n",
       "    </tr>\n",
       "  </tbody>\n",
       "</table>\n",
       "</div>"
      ],
      "text/plain": [
       "   age  workclass  fnlwgt            education  educational-num  \\\n",
       "0   25    Private  226802  Secondary education                7   \n",
       "1   38    Private   89814               Higher                9   \n",
       "2   28  Local-gov  336951               Higher               12   \n",
       "3   44    Private  160323               Higher               10   \n",
       "5   34    Private  198693  Secondary education                6   \n",
       "\n",
       "       marital-status         occupation   relationship   race  gender  \\\n",
       "0       Never-married  Machine-op-inspct      Own-child  Black       1   \n",
       "1  Married-civ-spouse    Farming-fishing        Husband  White       1   \n",
       "2  Married-civ-spouse    Protective-serv        Husband  White       1   \n",
       "3  Married-civ-spouse  Machine-op-inspct        Husband  Black       1   \n",
       "5       Never-married      Other-service  Not-in-family  White       1   \n",
       "\n",
       "   capital-gain  capital-loss  hours-per-week native-country  income  \n",
       "0             0             0              40  United-States       0  \n",
       "1             0             0              50  United-States       0  \n",
       "2             0             0              40  United-States       1  \n",
       "3          7688             0              40  United-States       1  \n",
       "5             0             0              30  United-States       0  "
      ]
     },
     "execution_count": 11,
     "metadata": {},
     "output_type": "execute_result"
    }
   ],
   "source": [
    "#Changing geneder entry to binary\n",
    "df.gender = df.gender.replace(['Male'], 1)\n",
    "df.gender = df.gender.replace(['Female'], 0)\n",
    "df.head()"
   ]
  },
  {
   "cell_type": "code",
   "execution_count": 12,
   "metadata": {},
   "outputs": [
    {
     "data": {
      "text/plain": [
       "<matplotlib.axes._subplots.AxesSubplot at 0x1a980c70eb0>"
      ]
     },
     "execution_count": 12,
     "metadata": {},
     "output_type": "execute_result"
    },
    {
     "data": {
      "image/png": "[encoded data removed]",
      "text/plain": [
       "<Figure size 432x288 with 2 Axes>"
      ]
     },
     "metadata": {
      "needs_background": "light"
     },
     "output_type": "display_data"
    }
   ],
   "source": [
    "corr_matrix = df.corr().round(2) #creates correlation matrix\n",
    "sns.heatmap(corr_matrix, annot=True)"
   ]
  },
  {
   "cell_type": "code",
   "execution_count": 13,
   "metadata": {},
   "outputs": [
    {
     "data": {
      "text/plain": [
       "array([[<matplotlib.axes._subplots.AxesSubplot object at 0x000001A98018F340>,\n",
       "        <matplotlib.axes._subplots.AxesSubplot object at 0x000001A9801BB7F0>],\n",
       "       [<matplotlib.axes._subplots.AxesSubplot object at 0x000001A9801E6C70>,\n",
       "        <matplotlib.axes._subplots.AxesSubplot object at 0x000001A980220130>],\n",
       "       [<matplotlib.axes._subplots.AxesSubplot object at 0x000001A98024C580>,\n",
       "        <matplotlib.axes._subplots.AxesSubplot object at 0x000001A980279910>]],\n",
       "      dtype=object)"
      ]
     },
     "execution_count": 13,
     "metadata": {},
     "output_type": "execute_result"
    },
    {
     "data": {
      "image/png": "[encoded data removed]",
      "text/plain": [
       "<Figure size 864x864 with 6 Axes>"
      ]
     },
     "metadata": {
      "needs_background": "light"
     },
     "output_type": "display_data"
    }
   ],
   "source": [
    "df.drop(['fnlwgt','educational-num'],axis=1,inplace=True)\n",
    "df.hist(figsize=(12,12),layout=(3,2),sharex=False)#creates grid od histograms for numerical features"
   ]
  },
  {
   "cell_type": "code",
   "execution_count": 14,
   "metadata": {},
   "outputs": [
    {
     "data": {
      "text/plain": [
       "<matplotlib.axes._subplots.AxesSubplot at 0x1a980e4e820>"
      ]
     },
     "execution_count": 14,
     "metadata": {},
     "output_type": "execute_result"
    },
    {
     "data": {
      "image/png": "[encoded data removed]",
      "text/plain": [
       "<Figure size 2160x1296 with 1 Axes>"
      ]
     },
     "metadata": {
      "needs_background": "light"
     },
     "output_type": "display_data"
    }
   ],
   "source": [
    "plt.figure(figsize=(30,18))\n",
    "sns.set(font_scale=3)\n",
    "sns.countplot( df['race'],hue='income',data=df,palette='magma')\n"
   ]
  },
  {
   "cell_type": "markdown",
   "metadata": {},
   "source": [
    "Building model"
   ]
  },
  {
   "cell_type": "code",
   "execution_count": 15,
   "metadata": {},
   "outputs": [],
   "source": [
    "df = df.apply(LabelEncoder().fit_transform)#changes text entries into numerical entries\n",
    "\n",
    "x = df.iloc[:,:-1].values #allocates all the rows and all the columns accept the last one \n",
    "y = df.iloc[:,-1].values #allocates all the rows and the last column\n",
    "\n",
    "x_train, x_test, y_train, y_test = train_test_split(x,y, test_size=0.3, random_state=3) #splits the dataset in ratio of 70% train 30% test\n",
    "\n",
    "standsca = StandardScaler().fit(x_train) #sets standard scaler and fits the data\n",
    "x_train_scaled = standsca.transform(x_train) #centers and scales train data\n",
    "x_test_scaled = standsca.transform(x_test) #centers and scales test data"
   ]
  },
  {
   "cell_type": "markdown",
   "metadata": {},
   "source": [
    "Naive Bayes models"
   ]
  },
  {
   "cell_type": "code",
   "execution_count": 16,
   "metadata": {},
   "outputs": [
    {
     "name": "stdout",
     "output_type": "stream",
     "text": [
      "   Gaussian\n",
      "Training accuracy: 0.791\n",
      "Testing accuracy: 0.788\n",
      "Total points:  13567 \n",
      "Miss matched points:  2872 \n",
      "Accuracy: 0.788\n",
      "\n",
      "   Bernoulli\n",
      "Training accuracy: 0.721\n",
      "Testing accuracy: 0.723\n",
      "Total points:  13567 \n",
      "Miss matched points:  3753 \n",
      "Accuracy: 0.723\n"
     ]
    }
   ],
   "source": [
    "#Naive Bayes models\n",
    "gnb = GaussianNB()\n",
    "bnb = BernoulliNB()\n",
    "\n",
    "model_list = []#empty list created for comparison of models\n",
    "\n",
    "\n",
    "print(\"   Gaussian\")\n",
    "model_gnb = gnb.fit(x_train,y_train)    #fitting the model\n",
    "y_pred = gnb.fit(x_train, y_train).predict(x_test)    #predicting Gaussian NB the target\n",
    "print(\"Training accuracy: {:,.3f}\".format(model_gnb.score(x_train,y_train)))\n",
    "print(\"Testing accuracy: {:,.3f}\".format(model_gnb.score(x_test,y_test)))\n",
    "print(\"Total points: \", x_test.shape[0], \"\\nMiss matched points: \", (y_test != y_pred).sum(), \"\\nAccuracy: {:.3f}\".format(accuracy_score(y_test,y_pred)))\n",
    "\n",
    "print(\"\\n   Bernoulli\")\n",
    "model_bnb = bnb.fit(x_train,y_train)    #fitting Bernoulli NB\n",
    "y_pred = bnb.fit(x_train, y_train).predict(x_test)    #predicting Bernoulli NB the target\n",
    "print(\"Training accuracy: {:,.3f}\".format(model_bnb.score(x_train,y_train)))\n",
    "print(\"Testing accuracy: {:,.3f}\".format(model_bnb.score(x_test,y_test)))\n",
    "print(\"Total points: \", x_test.shape[0], \"\\nMiss matched points: \", (y_test != y_pred).sum(), \"\\nAccuracy: {:.3f}\".format(accuracy_score(y_test,y_pred)))\n",
    "\n",
    "\n",
    "model_list.append(model_gnb)\n",
    "model_list.append(model_bnb)"
   ]
  },
  {
   "cell_type": "code",
   "execution_count": 17,
   "metadata": {},
   "outputs": [
    {
     "data": {
      "text/html": [
       "<div>\n",
       "<style scoped>\n",
       "    .dataframe tbody tr th:only-of-type {\n",
       "        vertical-align: middle;\n",
       "    }\n",
       "\n",
       "    .dataframe tbody tr th {\n",
       "        vertical-align: top;\n",
       "    }\n",
       "\n",
       "    .dataframe thead th {\n",
       "        text-align: right;\n",
       "    }\n",
       "</style>\n",
       "<table border=\"1\" class=\"dataframe\">\n",
       "  <thead>\n",
       "    <tr style=\"text-align: right;\">\n",
       "      <th></th>\n",
       "      <th>age</th>\n",
       "      <th>workclass</th>\n",
       "      <th>education</th>\n",
       "      <th>marital-status</th>\n",
       "      <th>occupation</th>\n",
       "      <th>relationship</th>\n",
       "      <th>race</th>\n",
       "      <th>gender</th>\n",
       "      <th>capital-gain</th>\n",
       "      <th>capital-loss</th>\n",
       "      <th>hours-per-week</th>\n",
       "      <th>native-country</th>\n",
       "      <th>income</th>\n",
       "    </tr>\n",
       "  </thead>\n",
       "  <tbody>\n",
       "    <tr>\n",
       "      <th>0</th>\n",
       "      <td>8</td>\n",
       "      <td>2</td>\n",
       "      <td>6</td>\n",
       "      <td>4</td>\n",
       "      <td>6</td>\n",
       "      <td>3</td>\n",
       "      <td>2</td>\n",
       "      <td>1</td>\n",
       "      <td>0</td>\n",
       "      <td>0</td>\n",
       "      <td>39</td>\n",
       "      <td>38</td>\n",
       "      <td>0</td>\n",
       "    </tr>\n",
       "    <tr>\n",
       "      <th>1</th>\n",
       "      <td>21</td>\n",
       "      <td>2</td>\n",
       "      <td>2</td>\n",
       "      <td>2</td>\n",
       "      <td>4</td>\n",
       "      <td>0</td>\n",
       "      <td>4</td>\n",
       "      <td>1</td>\n",
       "      <td>0</td>\n",
       "      <td>0</td>\n",
       "      <td>49</td>\n",
       "      <td>38</td>\n",
       "      <td>0</td>\n",
       "    </tr>\n",
       "    <tr>\n",
       "      <th>2</th>\n",
       "      <td>11</td>\n",
       "      <td>1</td>\n",
       "      <td>2</td>\n",
       "      <td>2</td>\n",
       "      <td>10</td>\n",
       "      <td>0</td>\n",
       "      <td>4</td>\n",
       "      <td>1</td>\n",
       "      <td>0</td>\n",
       "      <td>0</td>\n",
       "      <td>39</td>\n",
       "      <td>38</td>\n",
       "      <td>1</td>\n",
       "    </tr>\n",
       "    <tr>\n",
       "      <th>3</th>\n",
       "      <td>27</td>\n",
       "      <td>2</td>\n",
       "      <td>2</td>\n",
       "      <td>2</td>\n",
       "      <td>6</td>\n",
       "      <td>0</td>\n",
       "      <td>2</td>\n",
       "      <td>1</td>\n",
       "      <td>96</td>\n",
       "      <td>0</td>\n",
       "      <td>39</td>\n",
       "      <td>38</td>\n",
       "      <td>1</td>\n",
       "    </tr>\n",
       "    <tr>\n",
       "      <th>5</th>\n",
       "      <td>17</td>\n",
       "      <td>2</td>\n",
       "      <td>6</td>\n",
       "      <td>4</td>\n",
       "      <td>7</td>\n",
       "      <td>1</td>\n",
       "      <td>4</td>\n",
       "      <td>1</td>\n",
       "      <td>0</td>\n",
       "      <td>0</td>\n",
       "      <td>29</td>\n",
       "      <td>38</td>\n",
       "      <td>0</td>\n",
       "    </tr>\n",
       "    <tr>\n",
       "      <th>...</th>\n",
       "      <td>...</td>\n",
       "      <td>...</td>\n",
       "      <td>...</td>\n",
       "      <td>...</td>\n",
       "      <td>...</td>\n",
       "      <td>...</td>\n",
       "      <td>...</td>\n",
       "      <td>...</td>\n",
       "      <td>...</td>\n",
       "      <td>...</td>\n",
       "      <td>...</td>\n",
       "      <td>...</td>\n",
       "      <td>...</td>\n",
       "    </tr>\n",
       "    <tr>\n",
       "      <th>48837</th>\n",
       "      <td>10</td>\n",
       "      <td>2</td>\n",
       "      <td>2</td>\n",
       "      <td>2</td>\n",
       "      <td>12</td>\n",
       "      <td>5</td>\n",
       "      <td>4</td>\n",
       "      <td>0</td>\n",
       "      <td>0</td>\n",
       "      <td>0</td>\n",
       "      <td>37</td>\n",
       "      <td>38</td>\n",
       "      <td>0</td>\n",
       "    </tr>\n",
       "    <tr>\n",
       "      <th>48838</th>\n",
       "      <td>23</td>\n",
       "      <td>2</td>\n",
       "      <td>2</td>\n",
       "      <td>2</td>\n",
       "      <td>6</td>\n",
       "      <td>0</td>\n",
       "      <td>4</td>\n",
       "      <td>1</td>\n",
       "      <td>0</td>\n",
       "      <td>0</td>\n",
       "      <td>39</td>\n",
       "      <td>38</td>\n",
       "      <td>1</td>\n",
       "    </tr>\n",
       "    <tr>\n",
       "      <th>48839</th>\n",
       "      <td>41</td>\n",
       "      <td>2</td>\n",
       "      <td>2</td>\n",
       "      <td>6</td>\n",
       "      <td>0</td>\n",
       "      <td>4</td>\n",
       "      <td>4</td>\n",
       "      <td>0</td>\n",
       "      <td>0</td>\n",
       "      <td>0</td>\n",
       "      <td>39</td>\n",
       "      <td>38</td>\n",
       "      <td>0</td>\n",
       "    </tr>\n",
       "    <tr>\n",
       "      <th>48840</th>\n",
       "      <td>5</td>\n",
       "      <td>2</td>\n",
       "      <td>2</td>\n",
       "      <td>4</td>\n",
       "      <td>0</td>\n",
       "      <td>3</td>\n",
       "      <td>4</td>\n",
       "      <td>1</td>\n",
       "      <td>0</td>\n",
       "      <td>0</td>\n",
       "      <td>19</td>\n",
       "      <td>38</td>\n",
       "      <td>0</td>\n",
       "    </tr>\n",
       "    <tr>\n",
       "      <th>48841</th>\n",
       "      <td>35</td>\n",
       "      <td>3</td>\n",
       "      <td>2</td>\n",
       "      <td>2</td>\n",
       "      <td>3</td>\n",
       "      <td>5</td>\n",
       "      <td>4</td>\n",
       "      <td>0</td>\n",
       "      <td>110</td>\n",
       "      <td>0</td>\n",
       "      <td>39</td>\n",
       "      <td>38</td>\n",
       "      <td>1</td>\n",
       "    </tr>\n",
       "  </tbody>\n",
       "</table>\n",
       "<p>45222 rows × 13 columns</p>\n",
       "</div>"
      ],
      "text/plain": [
       "       age  workclass  education  marital-status  occupation  relationship  \\\n",
       "0        8          2          6               4           6             3   \n",
       "1       21          2          2               2           4             0   \n",
       "2       11          1          2               2          10             0   \n",
       "3       27          2          2               2           6             0   \n",
       "5       17          2          6               4           7             1   \n",
       "...    ...        ...        ...             ...         ...           ...   \n",
       "48837   10          2          2               2          12             5   \n",
       "48838   23          2          2               2           6             0   \n",
       "48839   41          2          2               6           0             4   \n",
       "48840    5          2          2               4           0             3   \n",
       "48841   35          3          2               2           3             5   \n",
       "\n",
       "       race  gender  capital-gain  capital-loss  hours-per-week  \\\n",
       "0         2       1             0             0              39   \n",
       "1         4       1             0             0              49   \n",
       "2         4       1             0             0              39   \n",
       "3         2       1            96             0              39   \n",
       "5         4       1             0             0              29   \n",
       "...     ...     ...           ...           ...             ...   \n",
       "48837     4       0             0             0              37   \n",
       "48838     4       1             0             0              39   \n",
       "48839     4       0             0             0              39   \n",
       "48840     4       1             0             0              19   \n",
       "48841     4       0           110             0              39   \n",
       "\n",
       "       native-country  income  \n",
       "0                  38       0  \n",
       "1                  38       0  \n",
       "2                  38       1  \n",
       "3                  38       1  \n",
       "5                  38       0  \n",
       "...               ...     ...  \n",
       "48837              38       0  \n",
       "48838              38       1  \n",
       "48839              38       0  \n",
       "48840              38       0  \n",
       "48841              38       1  \n",
       "\n",
       "[45222 rows x 13 columns]"
      ]
     },
     "execution_count": 17,
     "metadata": {},
     "output_type": "execute_result"
    }
   ],
   "source": [
    "df"
   ]
  },
  {
   "cell_type": "markdown",
   "metadata": {},
   "source": [
    "Logistic Regression model"
   ]
  },
  {
   "cell_type": "code",
   "execution_count": 18,
   "metadata": {},
   "outputs": [
    {
     "name": "stdout",
     "output_type": "stream",
     "text": [
      "Training accuracy: 0.794\n",
      "Testing accuracy: 0.793\n",
      "Total points:  13567 \n",
      "Miss matched points:  2809 \n",
      "Accuracy: 0.793\n"
     ]
    }
   ],
   "source": [
    "logistic = LogisticRegression()\n",
    "\n",
    "model_log = logistic.fit(x_train,y_train) #logistic regression is fitted\n",
    "y_test_pred = model_log.predict(x_test) #predicting Logistic Regression's target\n",
    "\n",
    "print(\"Training accuracy: {:,.3f}\".format(model_log.score(x_train,y_train)))\n",
    "print(\"Testing accuracy: {:,.3f}\".format(model_log.score(x_test,y_test)))\n",
    "\n",
    "print(\"Total points: \", x_test.shape[0], \"\\nMiss matched points: \", (y_test != y_test_pred).sum(), \"\\nAccuracy: {:.3f}\".format(accuracy_score(y_test,y_test_pred)))\n",
    "\n",
    "model_list.append(model_log)"
   ]
  },
  {
   "cell_type": "markdown",
   "metadata": {},
   "source": [
    "K Nearest Neighbour model"
   ]
  },
  {
   "cell_type": "code",
   "execution_count": 19,
   "metadata": {},
   "outputs": [
    {
     "name": "stdout",
     "output_type": "stream",
     "text": [
      "Training accuracy: 0.863\n",
      "Testing accuracy: 0.835\n",
      "Total points:  13567 \n",
      "Miss matched points:  2241 \n",
      "Accuracy: 0.835\n"
     ]
    }
   ],
   "source": [
    "knn = KNeighborsClassifier(n_neighbors=10,p=1)#hyper parameter tuning\n",
    "\n",
    "model_knn = knn.fit(x_train,y_train)\n",
    "y_test_pred = model_knn.predict(x_test)\n",
    "\n",
    "print(\"Training accuracy: {:,.3f}\".format(model_knn.score(x_train,y_train)))\n",
    "print(\"Testing accuracy: {:,.3f}\".format(model_knn.score(x_test,y_test)))\n",
    "\n",
    "print(\"Total points: \", x_test.shape[0], \"\\nMiss matched points: \", (y_test != y_test_pred).sum(), \"\\nAccuracy: {:.3f}\".format(accuracy_score(y_test,y_test_pred)))\n",
    "\n",
    "model_list.append(model_knn)"
   ]
  },
  {
   "cell_type": "markdown",
   "metadata": {},
   "source": [
    "Cross Validation"
   ]
  },
  {
   "cell_type": "code",
   "execution_count": 20,
   "metadata": {},
   "outputs": [
    {
     "name": "stdout",
     "output_type": "stream",
     "text": [
      "GaussianNB() :  0.79105\n",
      "BernoulliNB() :  0.72137\n",
      "LogisticRegression() :  0.79324\n",
      "KNeighborsClassifier(n_neighbors=10, p=1) :  0.83603\n"
     ]
    }
   ],
   "source": [
    "\"\"\"Loop to choose most efficient algorithm\"\"\"\n",
    "\n",
    "for i in range(len(model_list)):   #loops via all the models to compare \n",
    "    clf = cross_val_score(model_list[i],x,y,cv=5,scoring = 'accuracy') #Cross validating for checking how well models predict\n",
    "    clf_rounded = clf.mean().round(5)\n",
    "    print(model_list[i], \": \", clf_rounded)\n"
   ]
  },
  {
   "cell_type": "code",
   "execution_count": 21,
   "metadata": {},
   "outputs": [
    {
     "name": "stdout",
     "output_type": "stream",
     "text": [
      "y_test\n",
      " [0 0 0 0 0 0 0 1 0 0 0 0 0 1 0 1 0 1 0 0]\n",
      "\n",
      "y_test_pred\n",
      " [0 0 0 0 0 0 0 1 0 0 0 0 0 0 0 0 0 1 0 0]\n",
      "\n",
      "new_y_test_pred\n",
      " [0 0 0 0 0 0 0 1 0 0 0 0 0 0 0 0 0 0 0 0]\n",
      "\n",
      "Probability Prediction Split:\n",
      " [[1.  0. ]\n",
      " [0.6 0.4]\n",
      " [1.  0. ]\n",
      " [0.8 0.2]\n",
      " [1.  0. ]\n",
      " [0.9 0.1]\n",
      " [0.8 0.2]\n",
      " [0.  1. ]\n",
      " [1.  0. ]\n",
      " [0.9 0.1]\n",
      " [0.9 0.1]\n",
      " [1.  0. ]\n",
      " [1.  0. ]\n",
      " [0.6 0.4]\n",
      " [1.  0. ]\n",
      " [0.6 0.4]\n",
      " [0.5 0.5]\n",
      " [0.4 0.6]\n",
      " [0.9 0.1]\n",
      " [1.  0. ]]\n",
      "\n",
      "\n",
      "y_test\n",
      " 0    10201\n",
      "1     3366\n",
      "Name: 0, dtype: int64\n",
      "\n",
      "y_test_pred\n",
      " 0    11112\n",
      "1     2455\n",
      "Name: 0, dtype: int64\n",
      "\n",
      "new_y_test_pred\n",
      " 0    11759\n",
      "1     1808\n",
      "Name: 0, dtype: int64\n"
     ]
    }
   ],
   "source": [
    "defaultThreshold = 0.5\n",
    "newThreshold = 0.6\n",
    "x_test = pd.DataFrame(x_test) #reforming X testing set\n",
    "y_test_pred = model_knn.predict(x_test) \n",
    "y_train_pred = model_knn.predict(x_train)\n",
    "new_y_test_pred = np.where(model_knn.predict_proba(x_test)[:,1]>newThreshold,1,0)\n",
    "\n",
    "model_knn.predict_proba(x_test)\n",
    "#visual aid to see how the values are distribued with threshold\n",
    "print(\"y_test\\n\",y_test[0:20])\n",
    "print(\"\\ny_test_pred\\n\",y_test_pred[0:20])\n",
    "print(\"\\nnew_y_test_pred\\n\",new_y_test_pred[0:20])\n",
    "print(\"\\nProbability Prediction Split:\\n\",model_knn.predict_proba(x_test.head(20)))\n",
    "print(\"\\n\")\n",
    "print(\"y_test\\n\",pd.DataFrame(y_test)[0].value_counts()) \n",
    "print(\"\\ny_test_pred\\n\",pd.DataFrame(y_test_pred)[0].value_counts())\n",
    "print(\"\\nnew_y_test_pred\\n\",pd.DataFrame(new_y_test_pred)[0].value_counts())"
   ]
  },
  {
   "cell_type": "markdown",
   "metadata": {},
   "source": [
    "Confusion and Evaluation Matrix"
   ]
  },
  {
   "cell_type": "code",
   "execution_count": 22,
   "metadata": {},
   "outputs": [
    {
     "name": "stdout",
     "output_type": "stream",
     "text": [
      "              precision    recall  f1-score   support\n",
      "\n",
      "   Below 50K       0.84      0.97      0.90     10201\n",
      "   Above 50K       0.80      0.43      0.56      3366\n",
      "\n",
      "    accuracy                           0.83     13567\n",
      "   macro avg       0.82      0.70      0.73     13567\n",
      "weighted avg       0.83      0.83      0.81     13567\n",
      "\n"
     ]
    }
   ],
   "source": [
    "target_title = [\"Below 50K\",\"Above 50K\"] #list to name the classes\n",
    "initial_rep = classification_report(y_test, new_y_test_pred,target_names=target_title)\n",
    "print(initial_rep)"
   ]
  },
  {
   "cell_type": "code",
   "execution_count": 23,
   "metadata": {},
   "outputs": [
    {
     "data": {
      "text/plain": [
       "array([[9536,  665],\n",
       "       [1576, 1790]], dtype=int64)"
      ]
     },
     "execution_count": 23,
     "metadata": {},
     "output_type": "execute_result"
    }
   ],
   "source": [
    "cfm = confusion_matrix(y_test,y_test_pred)\n",
    "cfm"
   ]
  },
  {
   "cell_type": "code",
   "execution_count": 24,
   "metadata": {},
   "outputs": [
    {
     "data": {
      "image/png": "[encoded data removed]",
      "text/plain": [
       "<Figure size 432x288 with 2 Axes>"
      ]
     },
     "metadata": {},
     "output_type": "display_data"
    },
    {
     "data": {
      "image/png": "[encoded data removed]",
      "text/plain": [
       "<Figure size 432x288 with 2 Axes>"
      ]
     },
     "metadata": {},
     "output_type": "display_data"
    }
   ],
   "source": [
    "sns.set(font_scale=1.5)\n",
    "\n",
    "#Raw CM\n",
    "disp = plot_confusion_matrix(model_knn, x_test, y_test, \n",
    "                             display_labels=['Under 50K', 'Above 50K'])#plots the matrix\n",
    "disp.ax_.set_title(\"Confusinon Matrix\") #sets the title\n",
    "plt.show()\n",
    "\n",
    "#Normalised CM\n",
    "disp = plot_confusion_matrix(model_knn, x_test, y_test, \n",
    "                             display_labels=['Under 50K', 'Above 50K'],\n",
    "                             normalize='true') #plots the matrix\n",
    "disp.ax_.set_title(\"Normalized Confusion Matrix\") #sets the title\n",
    "plt.show()\n"
   ]
  },
  {
   "cell_type": "code",
   "execution_count": 25,
   "metadata": {},
   "outputs": [
    {
     "name": "stdout",
     "output_type": "stream",
     "text": [
      "              precision    recall  f1-score   support\n",
      "\n",
      "   Below 50K       0.86      0.93      0.89     10201\n",
      "   Above 50K       0.73      0.53      0.62      3366\n",
      "\n",
      "    accuracy                           0.83     13567\n",
      "   macro avg       0.79      0.73      0.75     13567\n",
      "weighted avg       0.83      0.83      0.83     13567\n",
      "\n"
     ]
    }
   ],
   "source": [
    "rep_cp = classification_report(y_test, y_test_pred,\n",
    "                               target_names=target_title) #generates Classification Report\n",
    "print(rep_cp)"
   ]
  },
  {
   "cell_type": "code",
   "execution_count": 26,
   "metadata": {},
   "outputs": [
    {
     "data": {
      "text/html": [
       "<div>\n",
       "<style scoped>\n",
       "    .dataframe tbody tr th:only-of-type {\n",
       "        vertical-align: middle;\n",
       "    }\n",
       "\n",
       "    .dataframe tbody tr th {\n",
       "        vertical-align: top;\n",
       "    }\n",
       "\n",
       "    .dataframe thead th {\n",
       "        text-align: right;\n",
       "    }\n",
       "</style>\n",
       "<table border=\"1\" class=\"dataframe\">\n",
       "  <thead>\n",
       "    <tr style=\"text-align: right;\">\n",
       "      <th></th>\n",
       "      <th>accuracy</th>\n",
       "      <th>recall</th>\n",
       "      <th>precision</th>\n",
       "      <th>f1_score</th>\n",
       "    </tr>\n",
       "  </thead>\n",
       "  <tbody>\n",
       "    <tr>\n",
       "      <th>Score</th>\n",
       "      <td>0.83482</td>\n",
       "      <td>0.531788</td>\n",
       "      <td>0.729124</td>\n",
       "      <td>0.615015</td>\n",
       "    </tr>\n",
       "  </tbody>\n",
       "</table>\n",
       "</div>"
      ],
      "text/plain": [
       "       accuracy    recall  precision  f1_score\n",
       "Score   0.83482  0.531788   0.729124  0.615015"
      ]
     },
     "execution_count": 26,
     "metadata": {},
     "output_type": "execute_result"
    }
   ],
   "source": [
    "from sklearn.metrics import recall_score, precision_score, f1_score\n",
    "\n",
    "pd.DataFrame(data=[[accuracy_score(y_test, y_test_pred), recall_score(y_test,y_test_pred),\n",
    "                   precision_score(y_test, y_test_pred), f1_score(y_test, y_test_pred)]],\n",
    "            columns=[\"accuracy\",\"recall\",\"precision\",\"f1_score\"],\n",
    "            index=['Score'])"
   ]
  },
  {
   "cell_type": "code",
   "execution_count": 27,
   "metadata": {},
   "outputs": [
    {
     "name": "stdout",
     "output_type": "stream",
     "text": [
      "--- 32.650638580322266 seconds ---\n"
     ]
    }
   ],
   "source": [
    "print(\"--- %s seconds ---\" % (time.time() - start_time))"
   ]
  }
 ],
 "metadata": {
  "kernelspec": {
   "display_name": "Python 3",
   "language": "python",
   "name": "python3"
  },
  "language_info": {
   "codemirror_mode": {
    "name": "ipython",
    "version": 3
   },
   "file_extension": ".py",
   "mimetype": "text/x-python",
   "name": "python",
   "nbconvert_exporter": "python",
   "pygments_lexer": "ipython3",
   "version": "3.8.3"
  }
 },
 "nbformat": 4,
 "nbformat_minor": 4
}
